{
 "cells": [
  {
   "cell_type": "markdown",
   "metadata": {},
   "source": [
    "# Final Exam"
   ]
  },
  {
   "cell_type": "markdown",
   "metadata": {},
   "source": [
    "Worth 50 points.\n",
    "\n",
    "You may work in groups of up to 2 people or complete the final exam independently.\n",
    "\n",
    "The final exam should be submitted as a Jupyter Notebook file in Canvas.  The code chunks should be run and the output should be visible upon opening the saved file.  Make sure the code is in \"Code\" format and the write-ups are in \"Markdown\" format.\n",
    "\n",
    "The final exam should include:\n",
    "\n",
    "\n",
    "### Webscraping\n",
    "+10 points possible\n",
    "\n",
    "- Obtain data using webscraping.\n",
    "- Data must include at least 2 unique variables or 1 variable with multiple unique categories that can be compared in statistical analysis.\n",
    "- May use Wikipedia or IMDb and follow the examples set up in class or choose your own website.\n",
    "- Must include a write-up for what the data is, what it represents, and how it is being used in the analysis.\n",
    "\n",
    "\n",
    "### Graphs\n",
    "+10 points possible\n",
    "\n",
    "- At least 1 graph in MatPlotLib and at least 1 graph in Seaborn.\n",
    "- Graphs should be formatted with x- and y-axis labels, coloring, and titles.  The individual observations (such as rectangles of bar charts or wedges of pie charts) should include labels, where applicable.\n",
    "- There should be a total of 3 unique graphs types.\n",
    "- Include a write-up describing what data you are visualizing and any points of interest that stick out to you.  If it is not obvious, include a description of why you chose the specific visualization.\n",
    "\n",
    "\n",
    "### Data Frames\n",
    "+10 points possible\n",
    "\n",
    "- You should create at least 1 dataframe using Pandas.\n",
    "- The data frame should have named columns that are appropriate for the data.\n",
    "- Data should be cleaned including: NaN values or duplicates should be removed, formatting should be fine-tuned, etc.\n",
    "- Include a write-up on how you cleaned the data and any issues in the data that you may have come across.\n",
    "\n",
    "\n",
    "### Statistical Analysis\n",
    "+10 points possible\n",
    "\n",
    "- Include descriptive analysis of univariate variables such as finding means, standard deviations, variances, ... The univariate statistics should be displayed in some sort of dataframe, list or table so that the reader can identify which variable and statistic is being reported.\n",
    "- Include at least 1 statistical test such as a t-test for the difference between two independent or paired means,  F test in ANOVA, linear regression (must include p-values for the predictor variables), etc.\n",
    "- You should write about what you are testing and why.\n",
    "- Include a follow up portion about what other types of testing you might conduct, including if you had access to different data.\n",
    "\n",
    "### Formatting\n",
    "+10 points possible.\n",
    "\n",
    "- Should be turned in on time.\n",
    "- Turned in via Jupyter Notebook file.  File is already run with outputs showing.\n",
    "- Layout is easy to follow with appropriate code chunks, with appropriate commenting, and markdown chunks.\n",
    "- Write-ups are easily read and add to the overall analysis."
   ]
  },
  {
   "cell_type": "markdown",
   "metadata": {},
   "source": [
    "## Packages:"
   ]
  },
  {
   "cell_type": "code",
   "execution_count": 1,
   "metadata": {},
   "outputs": [],
   "source": [
    "import requests\n",
    "from bs4 import BeautifulSoup\n",
    "import pandas as pd\n",
    "import matplotlib.pyplot as plt\n",
    "import seaborn as sns\n",
    "from os import path\n",
    "from wordcloud import WordCloud, STOPWORDS\n",
    "import scipy.stats"
   ]
  }
 ],
 "metadata": {
  "kernelspec": {
   "display_name": "Python 3",
   "language": "python",
   "name": "python3"
  },
  "language_info": {
   "codemirror_mode": {
    "name": "ipython",
    "version": 3
   },
   "file_extension": ".py",
   "mimetype": "text/x-python",
   "name": "python",
   "nbconvert_exporter": "python",
   "pygments_lexer": "ipython3",
   "version": "3.8.5"
  }
 },
 "nbformat": 4,
 "nbformat_minor": 4
}
